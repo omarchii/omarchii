{
  "nbformat": 4,
  "nbformat_minor": 0,
  "metadata": {
    "colab": {
      "provenance": [],
      "authorship_tag": "ABX9TyPyL0Uq4yLKVS4P60A7MHTq",
      "include_colab_link": true
    },
    "kernelspec": {
      "name": "python3",
      "display_name": "Python 3"
    },
    "language_info": {
      "name": "python"
    }
  },
  "cells": [
    {
      "cell_type": "markdown",
      "metadata": {
        "id": "view-in-github",
        "colab_type": "text"
      },
      "source": [
        "<a href=\"https://colab.research.google.com/github/omarchii/omarchii/blob/main/lab1.ipynb\" target=\"_parent\"><img src=\"https://colab.research.google.com/assets/colab-badge.svg\" alt=\"Open In Colab\"/></a>"
      ]
    },
    {
      "cell_type": "code",
      "execution_count": null,
      "metadata": {
        "id": "OH-sZG7sGTKr"
      },
      "outputs": [],
      "source": [
        "# Code Cell\n",
        "print(\"hello world\")\n",
        "\n",
        "# Hello World Program\n",
        "This is a simple program to print \"Hello World\" in Python.\n"
      ]
    },
    {
      "cell_type": "code",
      "source": [],
      "metadata": {
        "id": "CEm5KVpsGYEI"
      },
      "execution_count": null,
      "outputs": []
    }
  ]
}